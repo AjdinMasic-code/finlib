{
 "cells": [
  {
   "cell_type": "markdown",
   "metadata": {},
   "source": [
    "# Basic tutorial of finlib library"
   ]
  },
  {
   "cell_type": "markdown",
   "metadata": {},
   "source": [
    "First it is necessary to import everything from the finlib.py file"
   ]
  },
  {
   "cell_type": "code",
   "execution_count": 1,
   "metadata": {},
   "outputs": [],
   "source": [
    "from library.finlib import *"
   ]
  },
  {
   "cell_type": "markdown",
   "metadata": {},
   "source": [
    "We'll test it out on apple. It might not work for certain other companies in some cases, and it will definitely only work for stocks, but hopefully y'all find ways to break it that I can fix :)\n",
    "\n",
    "**Note that this library incorporates class level memoization - which means that the first few functions you run will take time as the program must retrieve data, but it stores that data locally while the notebook is open so the program will speed up very quickly as it is used**\n",
    "\n",
    "*Also note that this data is collected through a combination of yahoo finance and web scraping, and thus is not super extensive, nor potentially highly accurate - it is free tho*"
   ]
  },
  {
   "cell_type": "code",
   "execution_count": 30,
   "metadata": {},
   "outputs": [],
   "source": [
    "# Instantiating a Company class of the stock ticker we're interested in\n",
    "\n",
    "aapl = Company('aapl')"
   ]
  },
  {
   "cell_type": "code",
   "execution_count": 31,
   "metadata": {},
   "outputs": [
    {
     "data": {
      "text/plain": [
       "'AAPL'"
      ]
     },
     "execution_count": 31,
     "metadata": {},
     "output_type": "execute_result"
    }
   ],
   "source": [
    "# Checking the ticker is properly set\n",
    "\n",
    "aapl.check_ticker()"
   ]
  },
  {
   "cell_type": "code",
   "execution_count": 32,
   "metadata": {},
   "outputs": [
    {
     "name": "stdout",
     "output_type": "stream",
     "text": [
      "preset risk free rate of return: 0.025\n",
      "preset market rate of return: 0.098\n",
      "preset old corporate tax rate: 0.35\n",
      "preset new corporate tax rate: 0.21\n"
     ]
    }
   ],
   "source": [
    "# Checking some basic preset metrics\n",
    "\n",
    "print(\"preset risk free rate of return: {}\".format(aapl.check_risk_free_ror()))\n",
    "print(\"preset market rate of return: {}\".format(aapl.check_market_ror()))  \n",
    "print(\"preset old corporate tax rate: {}\".format(aapl.check_old_corporate_tax_rate())) \n",
    "print(\"preset new corporate tax rate: {}\".format(aapl.check_new_corporate_tax_rate())) \n"
   ]
  },
  {
   "cell_type": "code",
   "execution_count": 33,
   "metadata": {},
   "outputs": [],
   "source": [
    "# Can set the risk_free_ror and market_ror to any chosen values\n",
    "\n",
    "aapl.set_market_ror(0.1)\n",
    "aapl.set_risk_free_ror(0.3)"
   ]
  },
  {
   "cell_type": "code",
   "execution_count": 34,
   "metadata": {},
   "outputs": [
    {
     "data": {
      "text/html": [
       "<div>\n",
       "<style scoped>\n",
       "    .dataframe tbody tr th:only-of-type {\n",
       "        vertical-align: middle;\n",
       "    }\n",
       "\n",
       "    .dataframe tbody tr th {\n",
       "        vertical-align: top;\n",
       "    }\n",
       "\n",
       "    .dataframe thead th {\n",
       "        text-align: right;\n",
       "    }\n",
       "</style>\n",
       "<table border=\"1\" class=\"dataframe\">\n",
       "  <thead>\n",
       "    <tr style=\"text-align: right;\">\n",
       "      <th></th>\n",
       "      <th>2015</th>\n",
       "      <th>2016</th>\n",
       "      <th>2017</th>\n",
       "      <th>2018</th>\n",
       "    </tr>\n",
       "  </thead>\n",
       "  <tbody>\n",
       "    <tr>\n",
       "      <th>accountsPayable</th>\n",
       "      <td>35490000000</td>\n",
       "      <td>37294000000</td>\n",
       "      <td>44242000000</td>\n",
       "      <td>55888000000</td>\n",
       "    </tr>\n",
       "    <tr>\n",
       "      <th>cash</th>\n",
       "      <td>21120000000</td>\n",
       "      <td>20484000000</td>\n",
       "      <td>20289000000</td>\n",
       "      <td>25913000000</td>\n",
       "    </tr>\n",
       "    <tr>\n",
       "      <th>commonStock</th>\n",
       "      <td>27416000000</td>\n",
       "      <td>31251000000</td>\n",
       "      <td>35867000000</td>\n",
       "      <td>40201000000</td>\n",
       "    </tr>\n",
       "  </tbody>\n",
       "</table>\n",
       "</div>"
      ],
      "text/plain": [
       "                        2015         2016         2017         2018\n",
       "accountsPayable  35490000000  37294000000  44242000000  55888000000\n",
       "cash             21120000000  20484000000  20289000000  25913000000\n",
       "commonStock      27416000000  31251000000  35867000000  40201000000"
      ]
     },
     "execution_count": 34,
     "metadata": {},
     "output_type": "execute_result"
    }
   ],
   "source": [
    "# Can get the balance sheet as a dataframe, I am only returning the top 3 items\n",
    "# in order to save visual space in the notebook\n",
    "aapl.get_balance_sheet().head(3)"
   ]
  },
  {
   "cell_type": "code",
   "execution_count": 35,
   "metadata": {},
   "outputs": [
    {
     "data": {
      "text/html": [
       "<div>\n",
       "<style scoped>\n",
       "    .dataframe tbody tr th:only-of-type {\n",
       "        vertical-align: middle;\n",
       "    }\n",
       "\n",
       "    .dataframe tbody tr th {\n",
       "        vertical-align: top;\n",
       "    }\n",
       "\n",
       "    .dataframe thead th {\n",
       "        text-align: right;\n",
       "    }\n",
       "</style>\n",
       "<table border=\"1\" class=\"dataframe\">\n",
       "  <thead>\n",
       "    <tr style=\"text-align: right;\">\n",
       "      <th></th>\n",
       "      <th>2015</th>\n",
       "      <th>2016</th>\n",
       "      <th>2017</th>\n",
       "      <th>2018</th>\n",
       "    </tr>\n",
       "  </thead>\n",
       "  <tbody>\n",
       "    <tr>\n",
       "      <th>costOfRevenue</th>\n",
       "      <td>1.400890e+11</td>\n",
       "      <td>1.313760e+11</td>\n",
       "      <td>1.410480e+11</td>\n",
       "      <td>1.637560e+11</td>\n",
       "    </tr>\n",
       "    <tr>\n",
       "      <th>discontinuedOperations</th>\n",
       "      <td>NaN</td>\n",
       "      <td>NaN</td>\n",
       "      <td>NaN</td>\n",
       "      <td>NaN</td>\n",
       "    </tr>\n",
       "    <tr>\n",
       "      <th>ebit</th>\n",
       "      <td>7.123000e+10</td>\n",
       "      <td>6.002400e+10</td>\n",
       "      <td>6.134400e+10</td>\n",
       "      <td>7.089800e+10</td>\n",
       "    </tr>\n",
       "  </tbody>\n",
       "</table>\n",
       "</div>"
      ],
      "text/plain": [
       "                                2015          2016          2017          2018\n",
       "costOfRevenue           1.400890e+11  1.313760e+11  1.410480e+11  1.637560e+11\n",
       "discontinuedOperations           NaN           NaN           NaN           NaN\n",
       "ebit                    7.123000e+10  6.002400e+10  6.134400e+10  7.089800e+10"
      ]
     },
     "execution_count": 35,
     "metadata": {},
     "output_type": "execute_result"
    }
   ],
   "source": [
    "# Can get the income statement as a dataframe\n",
    "\n",
    "aapl.get_income_statement().head(3)"
   ]
  },
  {
   "cell_type": "code",
   "execution_count": 36,
   "metadata": {},
   "outputs": [
    {
     "data": {
      "text/html": [
       "<div>\n",
       "<style scoped>\n",
       "    .dataframe tbody tr th:only-of-type {\n",
       "        vertical-align: middle;\n",
       "    }\n",
       "\n",
       "    .dataframe tbody tr th {\n",
       "        vertical-align: top;\n",
       "    }\n",
       "\n",
       "    .dataframe thead th {\n",
       "        text-align: right;\n",
       "    }\n",
       "</style>\n",
       "<table border=\"1\" class=\"dataframe\">\n",
       "  <thead>\n",
       "    <tr style=\"text-align: right;\">\n",
       "      <th></th>\n",
       "      <th>2015</th>\n",
       "      <th>2016</th>\n",
       "      <th>2017</th>\n",
       "      <th>2018</th>\n",
       "    </tr>\n",
       "  </thead>\n",
       "  <tbody>\n",
       "    <tr>\n",
       "      <th>capitalExpenditures</th>\n",
       "      <td>-11247000000</td>\n",
       "      <td>-12734000000</td>\n",
       "      <td>-12451000000</td>\n",
       "      <td>-13313000000</td>\n",
       "    </tr>\n",
       "    <tr>\n",
       "      <th>changeInCash</th>\n",
       "      <td>7276000000</td>\n",
       "      <td>-636000000</td>\n",
       "      <td>-195000000</td>\n",
       "      <td>5624000000</td>\n",
       "    </tr>\n",
       "    <tr>\n",
       "      <th>changeToAccountReceivables</th>\n",
       "      <td>417000000</td>\n",
       "      <td>527000000</td>\n",
       "      <td>-2093000000</td>\n",
       "      <td>-5322000000</td>\n",
       "    </tr>\n",
       "  </tbody>\n",
       "</table>\n",
       "</div>"
      ],
      "text/plain": [
       "                                   2015         2016         2017         2018\n",
       "capitalExpenditures        -11247000000 -12734000000 -12451000000 -13313000000\n",
       "changeInCash                 7276000000   -636000000   -195000000   5624000000\n",
       "changeToAccountReceivables    417000000    527000000  -2093000000  -5322000000"
      ]
     },
     "execution_count": 36,
     "metadata": {},
     "output_type": "execute_result"
    }
   ],
   "source": [
    "# Can get the cash flow statement as a dataframe\n",
    "\n",
    "aapl.get_cash_flow_statement().head(3)"
   ]
  },
  {
   "cell_type": "code",
   "execution_count": 37,
   "metadata": {},
   "outputs": [
    {
     "data": {
      "text/plain": [
       "annualHoldingsTurnover       None\n",
       "enterpriseToRevenue         3.524\n",
       "beta3Year                    None\n",
       "profitMargins             0.22117\n",
       "enterpriseToEbitda         11.778\n",
       "dtype: object"
      ]
     },
     "execution_count": 37,
     "metadata": {},
     "output_type": "execute_result"
    }
   ],
   "source": [
    "# Can get key statistics of stock\n",
    "\n",
    "aapl.get_key_statistics().head()"
   ]
  },
  {
   "cell_type": "code",
   "execution_count": 38,
   "metadata": {},
   "outputs": [
    {
     "data": {
      "text/html": [
       "<div>\n",
       "<style scoped>\n",
       "    .dataframe tbody tr th:only-of-type {\n",
       "        vertical-align: middle;\n",
       "    }\n",
       "\n",
       "    .dataframe tbody tr th {\n",
       "        vertical-align: top;\n",
       "    }\n",
       "\n",
       "    .dataframe thead th {\n",
       "        text-align: right;\n",
       "    }\n",
       "</style>\n",
       "<table border=\"1\" class=\"dataframe\">\n",
       "  <thead>\n",
       "    <tr style=\"text-align: right;\">\n",
       "      <th></th>\n",
       "      <th>textdate</th>\n",
       "      <th>timestamp</th>\n",
       "      <th>eps</th>\n",
       "      <th>consensus_eps</th>\n",
       "      <th>surprise</th>\n",
       "    </tr>\n",
       "  </thead>\n",
       "  <tbody>\n",
       "    <tr>\n",
       "      <th>0</th>\n",
       "      <td>Jun2018</td>\n",
       "      <td>07/31/2018</td>\n",
       "      <td>2.34</td>\n",
       "      <td>2.17</td>\n",
       "      <td>7.83</td>\n",
       "    </tr>\n",
       "    <tr>\n",
       "      <th>1</th>\n",
       "      <td>Sep2018</td>\n",
       "      <td>11/01/2018</td>\n",
       "      <td>2.91</td>\n",
       "      <td>2.79</td>\n",
       "      <td>4.3</td>\n",
       "    </tr>\n",
       "    <tr>\n",
       "      <th>2</th>\n",
       "      <td>Dec2018</td>\n",
       "      <td>01/29/2019</td>\n",
       "      <td>4.18</td>\n",
       "      <td>4.17</td>\n",
       "      <td>0.24</td>\n",
       "    </tr>\n",
       "    <tr>\n",
       "      <th>3</th>\n",
       "      <td>Mar2019</td>\n",
       "      <td>04/30/2019</td>\n",
       "      <td>2.46</td>\n",
       "      <td>2.37</td>\n",
       "      <td>3.8</td>\n",
       "    </tr>\n",
       "  </tbody>\n",
       "</table>\n",
       "</div>"
      ],
      "text/plain": [
       "  textdate   timestamp   eps consensus_eps surprise\n",
       "0  Jun2018  07/31/2018  2.34          2.17     7.83\n",
       "1  Sep2018  11/01/2018  2.91          2.79      4.3\n",
       "2  Dec2018  01/29/2019  4.18          4.17     0.24\n",
       "3  Mar2019  04/30/2019  2.46          2.37      3.8"
      ]
     },
     "execution_count": 38,
     "metadata": {},
     "output_type": "execute_result"
    }
   ],
   "source": [
    "# Can get the historical EPS up to 4 quarters\n",
    "aapl.get_historical_eps()"
   ]
  },
  {
   "cell_type": "code",
   "execution_count": 39,
   "metadata": {},
   "outputs": [
    {
     "data": {
      "text/html": [
       "<div>\n",
       "<style scoped>\n",
       "    .dataframe tbody tr th:only-of-type {\n",
       "        vertical-align: middle;\n",
       "    }\n",
       "\n",
       "    .dataframe tbody tr th {\n",
       "        vertical-align: top;\n",
       "    }\n",
       "\n",
       "    .dataframe thead th {\n",
       "        text-align: right;\n",
       "    }\n",
       "</style>\n",
       "<table border=\"1\" class=\"dataframe\">\n",
       "  <thead>\n",
       "    <tr style=\"text-align: right;\">\n",
       "      <th></th>\n",
       "      <th>adjclose</th>\n",
       "      <th>close</th>\n",
       "      <th>date</th>\n",
       "      <th>formatted_date</th>\n",
       "      <th>high</th>\n",
       "      <th>low</th>\n",
       "      <th>open</th>\n",
       "      <th>volume</th>\n",
       "    </tr>\n",
       "  </thead>\n",
       "  <tbody>\n",
       "    <tr>\n",
       "      <th>0</th>\n",
       "      <td>0.022919</td>\n",
       "      <td>0.513393</td>\n",
       "      <td>345479400</td>\n",
       "      <td>1980-12-12</td>\n",
       "      <td>0.515625</td>\n",
       "      <td>0.513393</td>\n",
       "      <td>0.513393</td>\n",
       "      <td>117258400.0</td>\n",
       "    </tr>\n",
       "    <tr>\n",
       "      <th>1</th>\n",
       "      <td>0.021723</td>\n",
       "      <td>0.486607</td>\n",
       "      <td>345738600</td>\n",
       "      <td>1980-12-15</td>\n",
       "      <td>0.488839</td>\n",
       "      <td>0.486607</td>\n",
       "      <td>0.488839</td>\n",
       "      <td>43971200.0</td>\n",
       "    </tr>\n",
       "    <tr>\n",
       "      <th>2</th>\n",
       "      <td>0.020129</td>\n",
       "      <td>0.450893</td>\n",
       "      <td>345825000</td>\n",
       "      <td>1980-12-16</td>\n",
       "      <td>0.453125</td>\n",
       "      <td>0.450893</td>\n",
       "      <td>0.453125</td>\n",
       "      <td>26432000.0</td>\n",
       "    </tr>\n",
       "    <tr>\n",
       "      <th>3</th>\n",
       "      <td>0.020627</td>\n",
       "      <td>0.462054</td>\n",
       "      <td>345911400</td>\n",
       "      <td>1980-12-17</td>\n",
       "      <td>0.464286</td>\n",
       "      <td>0.462054</td>\n",
       "      <td>0.462054</td>\n",
       "      <td>21610400.0</td>\n",
       "    </tr>\n",
       "    <tr>\n",
       "      <th>4</th>\n",
       "      <td>0.021225</td>\n",
       "      <td>0.475446</td>\n",
       "      <td>345997800</td>\n",
       "      <td>1980-12-18</td>\n",
       "      <td>0.477679</td>\n",
       "      <td>0.475446</td>\n",
       "      <td>0.475446</td>\n",
       "      <td>18362400.0</td>\n",
       "    </tr>\n",
       "  </tbody>\n",
       "</table>\n",
       "</div>"
      ],
      "text/plain": [
       "   adjclose     close       date formatted_date      high       low      open  \\\n",
       "0  0.022919  0.513393  345479400     1980-12-12  0.515625  0.513393  0.513393   \n",
       "1  0.021723  0.486607  345738600     1980-12-15  0.488839  0.486607  0.488839   \n",
       "2  0.020129  0.450893  345825000     1980-12-16  0.453125  0.450893  0.453125   \n",
       "3  0.020627  0.462054  345911400     1980-12-17  0.464286  0.462054  0.462054   \n",
       "4  0.021225  0.475446  345997800     1980-12-18  0.477679  0.475446  0.475446   \n",
       "\n",
       "        volume  \n",
       "0  117258400.0  \n",
       "1   43971200.0  \n",
       "2   26432000.0  \n",
       "3   21610400.0  \n",
       "4   18362400.0  "
      ]
     },
     "execution_count": 39,
     "metadata": {},
     "output_type": "execute_result"
    }
   ],
   "source": [
    "# Can get all historical price data - hopefully you can index by date in pandas!\n",
    "# If you don't know how just look on stack overflow, it is very easy.\n",
    "\n",
    "aapl.get_price_data().head()"
   ]
  },
  {
   "cell_type": "markdown",
   "metadata": {},
   "source": [
    "### Now we'll look at some methods to gather specific figures and ratios"
   ]
  },
  {
   "cell_type": "code",
   "execution_count": 40,
   "metadata": {},
   "outputs": [
    {
     "data": {
      "text/plain": [
       "4601079808"
      ]
     },
     "execution_count": 40,
     "metadata": {},
     "output_type": "execute_result"
    }
   ],
   "source": [
    "# Example of a method that works with no arguments\n",
    "\n",
    "aapl.outstanding_shares()"
   ]
  },
  {
   "cell_type": "code",
   "execution_count": 41,
   "metadata": {},
   "outputs": [
    {
     "name": "stdout",
     "output_type": "stream",
     "text": [
      "share price: 190.0800018310547\n",
      "market value: 874573258329.4688\n",
      "earnings per share: 11.886999957099738\n",
      "pe ratio: 15.990578\n",
      "enterprise value: 910975238144\n",
      "beta: 0.893219\n",
      "cost of equity: 0.1213562\n",
      "short ratio: 2.19\n"
     ]
    }
   ],
   "source": [
    "# Other methods that do not require arguments\n",
    "\n",
    "print(\"share price: {}\".format(aapl.share_price()))\n",
    "print(\"market value: {}\".format(aapl.market_value()))\n",
    "print(\"earnings per share: {}\".format(aapl.earnings_per_share()))\n",
    "print(\"pe ratio: {}\".format(aapl.pe_ratio()))\n",
    "print(\"enterprise value: {}\".format(aapl.enterprise_value()))\n",
    "print(\"beta: {}\".format(aapl.beta()))\n",
    "print(\"cost of equity: {}\".format(aapl.cost_of_equity()))\n",
    "print(\"short ratio: {}\".format(aapl.short_ratio()))"
   ]
  },
  {
   "cell_type": "code",
   "execution_count": 42,
   "metadata": {},
   "outputs": [
    {
     "data": {
      "text/plain": [
       "265595000000"
      ]
     },
     "execution_count": 42,
     "metadata": {},
     "output_type": "execute_result"
    }
   ],
   "source": [
    "# Example of a method that requires an argument (really only year)\n",
    "\n",
    "aapl.revenue(2018)"
   ]
  },
  {
   "cell_type": "code",
   "execution_count": 43,
   "metadata": {
    "scrolled": false
   },
   "outputs": [
    {
     "name": "stdout",
     "output_type": "stream",
     "text": [
      "total expenses: 222212000000\n",
      "operating expenses: 194697000000\n",
      "liquid assets: 66301000000\n",
      "total debt: 102519000000\n",
      "tax: 13372000000\n",
      "interest: -3240000000\n",
      "depreciation: 10903000000\n",
      "cost of revenue: 163756000000\n",
      "total receivables: 48995000000\n",
      "total liabilities: 258578000000\n",
      "total assets: 365725000000\n",
      "total capital: 209666000000\n",
      "total equity: 107147000000\n",
      "capital expenditures: -13313000000\n",
      "net income: 59531000000\n",
      "gross profit: 101839000000\n",
      "ebit: 70898000000\n",
      "ebitda: 87046000000\n",
      "quick ratio: 0.4458848007177718\n",
      "income from continuing operations margin: 0.26694026619477024\n",
      "net margin: 0.22414202074587247\n",
      "return on assets: 0.160667922552507\n",
      "return on capital: 0.2503684266990899\n",
      "return on equity: 0.661689081355521\n",
      "cash flow operations: 70898000000\n",
      "free cash flow: 81651400000.0\n",
      "gross profit margin: 0.38343718820007905\n",
      "operating profit margin: 0.26694026619477024\n",
      "net profit margin: 0.22414202074587247\n"
     ]
    }
   ],
   "source": [
    "# Other methods that require year as an argument \n",
    "# (because it is yahoo finance it only goes to a maximum of 4 years back in time)\n",
    "\n",
    "# I'm setting year at the top so it can easily be adjusted and passing it into the function\n",
    "# in each print statement\n",
    "\n",
    "year = 2018\n",
    "\n",
    "print(\"total expenses: {}\".format(aapl.total_expenses(year)))\n",
    "print(\"operating expenses: {}\".format(aapl.operating_expenses(year)))\n",
    "print(\"liquid assets: {}\".format(aapl.liquid_assets(year))) # liquid assets is cash and short term investments\n",
    "print(\"total debt: {}\".format(aapl.total_debt(year)))\n",
    "print(\"tax: {}\".format(aapl.tax(year))) # income taxes paid\n",
    "print(\"interest: {}\".format(aapl.interest(year))) # interest paid\n",
    "print(\"depreciation: {}\".format(aapl.depreciation(year)))\n",
    "print(\"cost of revenue: {}\".format(aapl.cost_of_revenue(year)))\n",
    "print(\"total receivables: {}\".format(aapl.total_receivables(year)))\n",
    "print(\"total liabilities: {}\".format(aapl.total_liabilities(year)))\n",
    "print(\"total assets: {}\".format(aapl.total_assets(year)))\n",
    "print(\"total capital: {}\".format(aapl.total_capital(year)))\n",
    "print(\"total equity: {}\".format(aapl.total_equity(year)))\n",
    "print(\"capital expenditures: {}\".format(aapl.capital_expenditures(year)))\n",
    "print(\"net income: {}\".format(aapl.net_income(year)))\n",
    "print(\"gross profit: {}\".format(aapl.gross_profit(year)))\n",
    "print(\"ebit: {}\".format(aapl.ebit(year)))\n",
    "print(\"ebitda: {}\".format(aapl.ebitda(year)))\n",
    "print(\"quick ratio: {}\".format(aapl.quick_ratio(year)))\n",
    "print(\"income from continuing operations margin: {}\".format(aapl.income_continuing_operations_margin(year)))\n",
    "print(\"net margin: {}\".format(aapl.net_margin(year)))\n",
    "print(\"return on assets: {}\".format(aapl.return_on_assets(year)))\n",
    "print(\"return on capital: {}\".format(aapl.return_on_capital(year)))\n",
    "print(\"return on equity: {}\".format(aapl.return_on_equity(year)))\n",
    "print(\"cash flow operations: {}\".format(aapl.cash_flow_operations(year)))\n",
    "print(\"free cash flow: {}\".format(aapl.free_cash_flow(year)))\n",
    "print(\"gross profit margin: {}\".format(aapl.gross_profit_margin(year)))\n",
    "print(\"operating profit margin: {}\".format(aapl.operating_profit_margin(year)))\n",
    "print(\"net profit margin: {}\".format(aapl.net_profit_margin(year)))\n"
   ]
  }
 ],
 "metadata": {
  "kernelspec": {
   "display_name": "Python 3",
   "language": "python",
   "name": "python3"
  },
  "language_info": {
   "codemirror_mode": {
    "name": "ipython",
    "version": 3
   },
   "file_extension": ".py",
   "mimetype": "text/x-python",
   "name": "python",
   "nbconvert_exporter": "python",
   "pygments_lexer": "ipython3",
   "version": "3.7.3"
  }
 },
 "nbformat": 4,
 "nbformat_minor": 2
}
