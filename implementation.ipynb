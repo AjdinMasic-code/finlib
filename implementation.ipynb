{
 "cells": [
  {
   "cell_type": "code",
   "execution_count": 28,
   "metadata": {},
   "outputs": [],
   "source": [
    "import pandas as pd\n",
    "from yahoofinancials import YahooFinancials\n",
    "import matplotlib.pyplot as plt\n",
    "import requests\n",
    "import numpy as np\n",
    "import seaborn as sns\n",
    "import matplotlib.pyplot as plt\n",
    "from datetime import datetime,timedelta\n",
    "from bs4 import BeautifulSoup"
   ]
  },
  {
   "cell_type": "code",
   "execution_count": 31,
   "metadata": {},
   "outputs": [],
   "source": [
    "class DataRetrieval(object):\n",
    "    \n",
    "    def __init__(self,ticker):\n",
    "        self.ticker = ticker.upper()\n",
    "        self.financials = YahooFinancials(ticker)\n",
    "        self.timeframe = 'annual'\n",
    "        self.balance_sheet = None\n",
    "        self.income_statement = None\n",
    "        self.cash_flow_statement = None\n",
    "        self.key_statistics = None\n",
    "        self.historical_eps = None\n",
    "        self.price_data = None\n",
    "    \n",
    "    def __set_balance_sheet(self):\n",
    "        if self.balance_sheet == None:\n",
    "            try:\n",
    "                self.balance_sheet = self.financials.get_financial_stmts(self.timeframe,'balance')['balanceSheetHistory'][self.ticker]\n",
    "                self.balance_sheet = self.__clean_statement_timestamp(self.balance_sheet)\n",
    "            except:\n",
    "                return \"Error: Could not retrieve balance sheet\"\n",
    "    \n",
    "    def __set_income_statement(self):\n",
    "        if self.income_statement == None:\n",
    "            try:\n",
    "                self.income_statement = self.income_statement = self.financials.get_financial_stmts(self.timeframe,'income')['incomeStatementHistory'][self.ticker]\n",
    "                self.income_statement = self.__clean_statement_timestamp(self.income_statement)\n",
    "            except:\n",
    "                return \"Error: Could not retrieve income statement\"\n",
    "    \n",
    "    def __set_cash_flow_statement(self):\n",
    "        if self.cash_flow_statement == None:\n",
    "            try:\n",
    "                self.cash_flow_statement = self.cash_flow_statement = self.financials.get_financial_stmts(self.timeframe,'cash')['cashflowStatementHistory'][self.ticker]\n",
    "                self.cash_flow_statement = self.__clean_statement_timestamp(self.cash_flow_statement)\n",
    "            except:\n",
    "                return \"Error: Could not retrieve cash flow statement\"\n",
    "            \n",
    "    def __set_key_statistics(self):\n",
    "        if self.key_statistics == None:\n",
    "            try:\n",
    "                self.key_statistics = self.financials.get_key_statistics_data()\n",
    "            except:\n",
    "                return \"Error: Could not retrieve key statistics\"\n",
    "    \n",
    "    def __set_historical_eps(self):\n",
    "        if self.historical_eps == None:\n",
    "            url = 'https://www.nasdaq.com/earnings/report/{}'.format(self.ticker)\n",
    "            page = requests.get(url)\n",
    "            if page.status_code == 200:\n",
    "                soup = BeautifulSoup(page.text,'html.parser')\n",
    "                eps_list = []\n",
    "                td = soup.find_all('td')\n",
    "                counter = 0\n",
    "                for i in td[2::5]:\n",
    "                    try:\n",
    "                        test = float(i.get_text())\n",
    "                        counter += 1\n",
    "                    except:\n",
    "                        break\n",
    "                for i in range(counter*5): \n",
    "                    eps_list.append(list(soup.find_all('td'))[i].get_text())\n",
    "                self.historical_eps = pd.DataFrame({'textdate':eps_list[0::5],'timestamp':eps_list[1::5],'eps':eps_list[2::5],'consensus_eps':eps_list[3::5],'surprise':eps_list[4::5]})\n",
    "                self.historical_eps = self.historical_eps.iloc[::-1]\n",
    "                self.historical_eps.reset_index(inplace=True,drop=True)\n",
    "            else:\n",
    "                return \"Error: Could not connect to NASDAQ website\"\n",
    "    \n",
    "    def __set_price_data(self):\n",
    "        if self.price_data == None:\n",
    "            try:\n",
    "                self.price_data = pd.DataFrame(self.financials.get_historical_price_data('1800-01-01',str(datetime.now())[:10],'daily')[self.ticker]['prices'])\n",
    "            except:\n",
    "                \"Error: Could not retrieve historical price data\"\n",
    "\n",
    "    def __clean_statement_timestamp(self,statement):\n",
    "        for i in statement:\n",
    "                for j in i.keys():\n",
    "                    i[j[:4]] = i.pop(j)\n",
    "        return statement\n",
    "    \n",
    "    def __get_specific_year(self,statement,year):\n",
    "        for i in statement:\n",
    "            if str(list(i.keys())[0]) == str(year):\n",
    "                return i['{}'.format(year)]\n",
    "    \n",
    "    def __json_to_dataframe(self,data):\n",
    "        columns = []\n",
    "        for i in data:\n",
    "            for j in i.keys():\n",
    "                columns.append(j)\n",
    "        df = pd.DataFrame(data[0])\n",
    "        for i in range(len(columns)):\n",
    "            df[columns[i]] = pd.DataFrame(data[i])\n",
    "        df = df[df.columns[::-1]]\n",
    "        return df\n",
    "\n",
    "    def get_balance_sheet(self):\n",
    "        self.__set_balance_sheet()\n",
    "        df = self.__json_to_dataframe(self.balance_sheet)\n",
    "        return df\n",
    "    \n",
    "    def get_income_statement(self):\n",
    "        self.__set_income_statement()\n",
    "        df = self.__json_to_dataframe(self.income_statement)\n",
    "        return df\n",
    "    \n",
    "    def get_cash_flow_statement(self):\n",
    "        self.__set_cash_flow_statement()\n",
    "        df = self.__json_to_dataframe(self.cash_flow_statement)\n",
    "        return df\n",
    "    \n",
    "    def get_key_statistics(self):\n",
    "        self.__set_key_statistics()\n",
    "        ser = pd.Series(self.key_statistics[self.ticker])\n",
    "        return ser\n",
    "    \n",
    "    def get_historical_eps(self):\n",
    "        self.__set_historical_eps()\n",
    "        return self.historical_eps\n",
    "    \n",
    "    def get_price_data(self):\n",
    "        self.__set_price_data()\n",
    "        return self.price_data\n",
    "    \n",
    "    def check_ticker(self):\n",
    "        return self.ticker\n",
    "\n",
    "    def revenue(self,year):\n",
    "        self.__set_income_statement()\n",
    "        try:\n",
    "            return self.__get_specific_year(self.income_statement,year)['totalRevenue']\n",
    "        except:\n",
    "            return None\n",
    "\n",
    "    def total_expenses(self,year):\n",
    "        self.__set_income_statement()\n",
    "        self.__set_cash_flow_statement()\n",
    "        try:\n",
    "            operating_expenses = self.__get_specific_year(self.income_statement,year)['totalOperatingExpenses']\n",
    "            interest = self.__get_specific_year(self.income_statement,year)['interestExpense']\n",
    "            tax = self.__get_specific_year(self.income_statement,year)['incomeTaxExpense']\n",
    "            depreciation = self.__get_specific_year(self.cash_flow_statement,year)['depreciation']\n",
    "            return Formulas.total_expenses(operating_expenses,interest,tax,depreciation)\n",
    "        except:\n",
    "            return None\n",
    "            \n",
    "    \n",
    "    def operating_expenses(self,year):\n",
    "        self.__set_cash_flow_statement()\n",
    "        try:\n",
    "            return self.__get_specific_year(self.cash_flow_statement,year)['totalOperatingExpenses']\n",
    "        except:\n",
    "            return None\n",
    "    \n",
    "    def outstanding_shares(self):\n",
    "        self.__set_key_statistics()\n",
    "        try:\n",
    "            return self.key_statistics[self.ticker]['sharesOutstanding']\n",
    "        except:\n",
    "            return None\n",
    "    \n",
    "    def share_price(self):\n",
    "        pass\n",
    "    \n",
    "    def market_value(self):\n",
    "        pass\n",
    "    \n",
    "    def liquid_assets(self):\n",
    "        pass\n",
    "    \n",
    "    def total_debt(self):\n",
    "        pass\n",
    "    \n",
    "    def total_debt(self):\n",
    "        pass\n",
    "    \n",
    "    def tax(self):\n",
    "        return Formulas.gross_profit(self.revenue(),self.operating_expenses()) * (1-self.corporate_tax_rate)\n",
    "    \n",
    "    def interest(self):\n",
    "        pass\n",
    "    \n",
    "    def depreciation(self):\n",
    "        pass\n",
    "    \n",
    "    def amortization(self):\n",
    "        pass\n",
    "    \n",
    "    def cost_of_goods_sold(self):\n",
    "        pass\n",
    "    \n",
    "    def receivables(self):\n",
    "        pass\n",
    "    \n",
    "    def liabilities(self):\n",
    "        pass\n",
    "    \n",
    "    def total_assets(self):\n",
    "        pass\n",
    "    \n",
    "    def total_capital(self):\n",
    "        pass\n",
    "    \n",
    "    def total_equity(self):\n",
    "        pass\n",
    "    \n",
    "    def capital_expenditures(self):\n",
    "        pass\n"
   ]
  },
  {
   "cell_type": "code",
   "execution_count": 35,
   "metadata": {},
   "outputs": [],
   "source": [
    "f = figureRetrieval('cvx')"
   ]
  },
  {
   "cell_type": "code",
   "execution_count": 397,
   "metadata": {},
   "outputs": [
    {
     "data": {
      "text/plain": [
       "265595000000"
      ]
     },
     "execution_count": 397,
     "metadata": {},
     "output_type": "execute_result"
    }
   ],
   "source": [
    "f.revenue(2018)"
   ]
  },
  {
   "cell_type": "code",
   "execution_count": 370,
   "metadata": {},
   "outputs": [
    {
     "data": {
      "text/plain": [
       "'CVX'"
      ]
     },
     "execution_count": 370,
     "metadata": {},
     "output_type": "execute_result"
    }
   ],
   "source": [
    "f.check_ticker()"
   ]
  },
  {
   "cell_type": "code",
   "execution_count": null,
   "metadata": {},
   "outputs": [],
   "source": [
    "class RatioCalculation(object):\n",
    "    \n",
    "    def __init__(self):\n",
    "        self.corporate_tax_rate = 0.21\n",
    "        self.risk_free_ror = 0.025\n",
    "        self.market_ror = 0.098\n",
    "    \n",
    "    def set_corporate_tax_rate(self,corporate_tax_rate):\n",
    "        self.corporate_tax_rate = corporate_tax_rate\n",
    "        \n",
    "    def set_risk_free_ror(self,risk_free_ror):\n",
    "        self.risk_free_ror = risk_free_ror\n",
    "        \n",
    "    def set_market_ror(self,market_ror):\n",
    "        self.market_ror = market_ror"
   ]
  },
  {
   "cell_type": "code",
   "execution_count": null,
   "metadata": {},
   "outputs": [],
   "source": [
    "class TrendModeling(object):\n",
    "    # this class should model line of best fit trends on first level,\n",
    "    # and second level acceleration line of best fit trends"
   ]
  },
  {
   "cell_type": "markdown",
   "metadata": {},
   "source": [
    "For modelling, use a system wherby you can freely adjust the growth parameters, and if you so choose - can use historical growth/acceleration metrics to adjust those parameters for you automatically\n",
    "\n",
    "chapter 12 should be for modelling "
   ]
  },
  {
   "cell_type": "code",
   "execution_count": null,
   "metadata": {},
   "outputs": [],
   "source": [
    "class ValueModeling(object):\n",
    "    "
   ]
  },
  {
   "cell_type": "code",
   "execution_count": null,
   "metadata": {},
   "outputs": [],
   "source": [
    "class RiskModeling(object):\n",
    "    "
   ]
  },
  {
   "cell_type": "code",
   "execution_count": null,
   "metadata": {},
   "outputs": [],
   "source": []
  },
  {
   "cell_type": "code",
   "execution_count": 412,
   "metadata": {},
   "outputs": [],
   "source": [
    "# Visualization class\n",
    "class Visualize:\n",
    "    #df = df.T.iloc[::-1]\n",
    "    pass"
   ]
  },
  {
   "cell_type": "code",
   "execution_count": null,
   "metadata": {},
   "outputs": [],
   "source": [
    "class Recommend(object):\n",
    "    \n",
    "    def __init__(self,company):\n",
    "        company.runall()"
   ]
  },
  {
   "cell_type": "code",
   "execution_count": 38,
   "metadata": {},
   "outputs": [],
   "source": [
    "class Company(object):\n",
    "    def __init__(self,ticker):\n",
    "        self.ticker = ticker\n",
    "        self.financials = YahooFinancials(self.ticker)\n",
    "        \n",
    "    # Gather all possible quantitative metrics available    \n",
    "    def runall():\n",
    "        "
   ]
  }
 ],
 "metadata": {
  "kernelspec": {
   "display_name": "Python 3",
   "language": "python",
   "name": "python3"
  },
  "language_info": {
   "codemirror_mode": {
    "name": "ipython",
    "version": 3
   },
   "file_extension": ".py",
   "mimetype": "text/x-python",
   "name": "python",
   "nbconvert_exporter": "python",
   "pygments_lexer": "ipython3",
   "version": "3.7.3"
  }
 },
 "nbformat": 4,
 "nbformat_minor": 2
}
