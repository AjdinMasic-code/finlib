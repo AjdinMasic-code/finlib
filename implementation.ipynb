{
 "cells": [
  {
   "cell_type": "markdown",
   "metadata": {},
   "source": [
    "Class structures\n",
    "\n",
    "- Formulas for just calculating financial ratios\n",
    "- Functions for retrieval/calculation of financial ratios and figures\n",
    "- Functions for modelling/projections\n",
    "\n",
    "- Class for instantiating a particular company and calling data off of that company (yahoo finance integration)"
   ]
  },
  {
   "cell_type": "markdown",
   "metadata": {},
   "source": [
    "numpy\n",
    "\n",
    "seaborn\n",
    "\n",
    "matplotlib\n",
    "\n",
    "scikit-learn\n"
   ]
  },
  {
   "cell_type": "code",
   "execution_count": 420,
   "metadata": {},
   "outputs": [],
   "source": [
    "import pandas as pd\n",
    "from yahoofinancials import YahooFinancials\n",
    "import matplotlib.pyplot as plt\n",
    "import requests\n",
    "from bs4 import BeautifulSoup"
   ]
  },
  {
   "cell_type": "code",
   "execution_count": 378,
   "metadata": {},
   "outputs": [],
   "source": [
    "class Formulas(object):\n",
    "    \n",
    "    def total_expenses(operating_expenses,interest,tax,depreciation):\n",
    "        return abs(operating_expenses) + abs(interest) + abs(tax) + abs(depreciation)\n",
    "    \n",
    "    def net_income(revenue,total_expenses):\n",
    "        return abs(revenue)-(abs(total_expenses))\n",
    "    \n",
    "    def gross_profit(revenue,operating_expenses):\n",
    "        return abs(revenue)-(abs(operating_expenses))\n",
    "    \n",
    "    def earnings_per_share(net_income,outstanding_shares):\n",
    "        return abs(net_income)/abs(outstanding_shares)\n",
    "    \n",
    "    def pe_ratio(share_price,earnings_per_share):\n",
    "        return abs(share_price)/abs(earnings_per_share)\n",
    "    \n",
    "    def enterprise_value(market_value,liquid_assets,total_debt):\n",
    "        return abs(market_value) - abs(liquid_assets) + abs(total_debt)\n",
    "    \n",
    "    def ebitda(net_income,tax,interest,depreciation,amortization):\n",
    "        return abs(net_income)+abs(tax)+abs(interest)+abs(depreciation)+abs(amortization)\n",
    "    \n",
    "    def ebit(revenue,cost_of_goods_sold,operating_expenses,depreciation,amortization):\n",
    "        return abs(revenue) - abs(cost_of_goods_sold) - abs(operating_expenses) - abs(depreciation) - abs(amortization)\n",
    "    \n",
    "    def quick_ratio(liquid_assets,receivables,liabilities):\n",
    "        return (abs(liquid_assets)+abs(receivables))/abs(liabilities)\n",
    "    \n",
    "    def income_continuing_operations_margin(ebit,revenue):\n",
    "        return abs(ebit)/abs(revenue)\n",
    "    \n",
    "    def net_margin(net_income,revenue):\n",
    "        return abs(net_income)/abs(revenue)\n",
    "    \n",
    "    def return_on_assets(net_income,beginning_total_assets,ending_total_assets):\n",
    "        return abs(net_income)/((abs(beginning_total_assets)+abs(ending_total_assets))/2)\n",
    "    \n",
    "    def return_on_capital(ebit,corporate_tax_rate,beginning_total_capital,ending_total_capital):\n",
    "        return (abs(ebit)*(1-abs(corporate_tax_rate)))/((abs(beginning_total_capital)+abs(ending_total_capital))/2)\n",
    "    \n",
    "    def return_on_equity(income_continuing_operations,total_equity):\n",
    "        return abs(income_continuing_operations)/abs(total_equity)\n",
    "    \n",
    "    def growth_rate(beginning_figure,ending_figure):\n",
    "        return (abs(ending_figure)-abs(beginning_figure))/abs(beginning_figure)\n",
    "    \n",
    "    def cash_flow_operations(revenue,operating_expenses):\n",
    "        return abs(revenue-operating_expenses)\n",
    "    \n",
    "    def free_cash_flow(cash_flow_operations,interest,corporate_tax_rate,capital_expenditures):\n",
    "        return abs(cash_flow_operations) + (abs(interest)*(1-abs(corporate_tax_rate))) - abs(capital_expenditures)\n",
    "    \n",
    "    def beta(risk_free_ror,security_ror,market_ror):\n",
    "        return (abs(stocks_ror)-abs(risk_free_ror))/(abs(market_ror)-abs(risk_free_ror))\n",
    "    \n",
    "    def cost_of_equity(risk_free_ror, beta, market_ror):\n",
    "        return abs(risk_free_ror)+(abs(beta)*(abs(market_ror)-abs(risk_free_ror)))\n",
    "    \n",
    "    def gross_profit_margin(revenue, cost_of_goods_sold):\n",
    "        return (abs(revenue)-abs(cost_of_goods_sold))/abs(revenue)\n",
    "    \n",
    "    def operating_profit_margin(ebit,revenue):\n",
    "        return abs(ebit)/abs(revenue)\n",
    "    \n",
    "    def net_profit_margin(net_income,revenue):\n",
    "        return abs(net_income)/abs(revenue)"
   ]
  },
  {
   "cell_type": "code",
   "execution_count": 438,
   "metadata": {},
   "outputs": [],
   "source": [
    "class figureRetrieval(object):\n",
    "    \n",
    "    def __init__(self,ticker):\n",
    "        self.ticker = ticker.upper()\n",
    "        self.financials = YahooFinancials(ticker)\n",
    "        self.corporate_tax_rate = 0.21\n",
    "        self.risk_free_ror = 0.025\n",
    "        self.market_ror = 0.098\n",
    "        self.timeframe = 'annual'\n",
    "        self.balance_sheet = None\n",
    "        self.income_statement = None\n",
    "        self.cash_flow_statement = None\n",
    "        self.key_statistics = None\n",
    "        self.historical_eps = None\n",
    "\n",
    "    def __set_balance_sheet(self):\n",
    "        if self.balance_sheet == None:\n",
    "            try:\n",
    "                self.balance_sheet = self.financials.get_financial_stmts(self.timeframe,'balance')['balanceSheetHistory'][self.ticker]\n",
    "                self.balance_sheet = self.__clean_statement_timestamp(self.balance_sheet)\n",
    "            except:\n",
    "                return \"Error: Could not retrieve balance sheet\"\n",
    "    \n",
    "    def __set_income_statement(self):\n",
    "        if self.income_statement == None:\n",
    "            try:\n",
    "                self.income_statement = self.income_statement = self.financials.get_financial_stmts(self.timeframe,'income')['incomeStatementHistory'][self.ticker]\n",
    "                self.income_statement = self.__clean_statement_timestamp(self.income_statement)\n",
    "            except:\n",
    "                return \"Error: Could not retrieve income statement\"\n",
    "    \n",
    "    def __set_cash_flow_statement(self):\n",
    "        if self.cash_flow_statement == None:\n",
    "            try:\n",
    "                self.cash_flow_statement = self.cash_flow_statement = self.financials.get_financial_stmts(self.timeframe,'cash')['cashflowStatementHistory'][self.ticker]\n",
    "                self.cash_flow_statement = self.__clean_statement_timestamp(self.cash_flow_statement)\n",
    "            except:\n",
    "                return \"Error: Could not retrieve cash flow statement\"\n",
    "            \n",
    "    def __set_key_statistics(self):\n",
    "        if self.key_statistics == None:\n",
    "            try:\n",
    "                self.key_statistics = self.financials.get_key_statistics_data()\n",
    "            except:\n",
    "                return \"Error: Could not retrieve key statistics\"\n",
    "    \n",
    "    def __set_historical_eps(self):\n",
    "        if self.historical_eps == None:\n",
    "            url = 'https://www.nasdaq.com/earnings/report/{}'.format(self.ticker)\n",
    "            page = requests.get(url)\n",
    "            if page.status_code == 200:\n",
    "                soup = BeautifulSoup(page.text,'html.parser')\n",
    "                eps_list = []\n",
    "                td = soup.find_all('td')\n",
    "                counter = 0\n",
    "                for i in td[2::5]:\n",
    "                    try:\n",
    "                        test = float(i.get_text())\n",
    "                        counter += 1\n",
    "                    except:\n",
    "                        break\n",
    "                for i in range(counter*5): \n",
    "                    eps_list.append(list(soup.find_all('td'))[i].get_text())\n",
    "                self.historical_eps = pd.DataFrame({'textdate':eps_list[0::5],'timestamp':eps_list[1::5],'eps':eps_list[2::5],'consensus_eps':eps_list[3::5],'surprise':eps_list[4::5]})\n",
    "                self.historical_eps = self.historical_eps.iloc[::-1]\n",
    "                self.historical_eps.reset_index(inplace=True,drop=True)\n",
    "            else:\n",
    "                return \"Error: Could not connect to NASDAQ website\"\n",
    "    \n",
    "    def __clean_statement_timestamp(self,statement):\n",
    "        for i in statement:\n",
    "                for j in i.keys():\n",
    "                    i[j[:4]] = i.pop(j)\n",
    "        return statement\n",
    "    \n",
    "    def __get_specific_year(self,statement,year):\n",
    "        for i in statement:\n",
    "            if str(list(i.keys())[0]) == str(year):\n",
    "                return i['{}'.format(year)]\n",
    "\n",
    "    def get_balance_sheet(self):\n",
    "        self.__set_balance_sheet()\n",
    "        columns = []\n",
    "        for i in self.balance_sheet:\n",
    "            for j in i.keys():\n",
    "                columns.append(j)\n",
    "        df = pd.DataFrame(self.balance_sheet[0])\n",
    "        for i in range(len(columns)):\n",
    "            df[columns[i]] = pd.DataFrame(self.balance_sheet[i])\n",
    "        df = df[df.columns[::-1]]\n",
    "        return df\n",
    "    \n",
    "    def get_income_statement(self):\n",
    "        pass\n",
    "    \n",
    "    def get_cash_flow_statement(self):\n",
    "        pass\n",
    "    \n",
    "    def get_key_statistics(self):\n",
    "        pass\n",
    "    \n",
    "    def get_historical_eps(self):\n",
    "        self.__set_historical_eps()\n",
    "        return self.historical_eps\n",
    "    \n",
    "    def check_ticker(self):\n",
    "        return self.ticker\n",
    "    \n",
    "    def set_corporate_tax_rate(self,corporate_tax_rate):\n",
    "        self.corporate_tax_rate = corporate_tax_rate\n",
    "        \n",
    "    def set_risk_free_ror(self,risk_free_ror):\n",
    "        self.risk_free_ror = risk_free_ror\n",
    "        \n",
    "    def set_market_ror(self,market_ror):\n",
    "        self.market_ror = market_ror\n",
    "    \n",
    "\n",
    "    def revenue(self,year):\n",
    "        self.__set_income_statement()\n",
    "        try:\n",
    "            return self.__get_specific_year(self.income_statement,year)['totalRevenue']\n",
    "        except:\n",
    "            return None\n",
    "\n",
    "    def total_expenses(self,year):\n",
    "        self.__set_income_statement()\n",
    "        self.__set_cash_flow_statement()\n",
    "        try:\n",
    "            operating_expenses = self.__get_specific_year(self.income_statement,year)['totalOperatingExpenses']\n",
    "            interest = self.__get_specific_year(self.income_statement,year)['interestExpense']\n",
    "            tax = self.__get_specific_year(self.income_statement,year)['incomeTaxExpense']\n",
    "            depreciation = self.__get_specific_year(self.cash_flow_statement,year)['depreciation']\n",
    "            return Formulas.total_expenses(operating_expenses,interest,tax,depreciation)\n",
    "        except:\n",
    "            return None\n",
    "            \n",
    "    \n",
    "    def operating_expenses(self,year):\n",
    "        self.__set_cash_flow_statement\n",
    "        try:\n",
    "            return self.__get_specific_year(self.cash_flow_statement,year)['totalOperatingExpenses']\n",
    "        except:\n",
    "            return None\n",
    "    \n",
    "    def outstanding_shares(self):\n",
    "        if self.key_statistics == None:\n",
    "            pass\n",
    "    \n",
    "    def share_price(self):\n",
    "        pass\n",
    "    \n",
    "    def market_value(self):\n",
    "        pass\n",
    "    \n",
    "    def liquid_assets(self):\n",
    "        pass\n",
    "    \n",
    "    def total_debt(self):\n",
    "        pass\n",
    "    \n",
    "    def total_debt(self):\n",
    "        pass\n",
    "    \n",
    "    def tax(self):\n",
    "        return Formulas.gross_profit(self.revenue(),self.operating_expenses()) * (1-self.corporate_tax_rate)\n",
    "    \n",
    "    def interest(self):\n",
    "        pass\n",
    "    \n",
    "    def depreciation(self):\n",
    "        pass\n",
    "    \n",
    "    def amortization(self):\n",
    "        pass\n",
    "    \n",
    "    def cost_of_goods_sold(self):\n",
    "        pass\n",
    "    \n",
    "    def receivables(self):\n",
    "        pass\n",
    "    \n",
    "    def liabilities(self):\n",
    "        pass\n",
    "    \n",
    "    def total_assets(self):\n",
    "        pass\n",
    "    \n",
    "    def total_capital(self):\n",
    "        pass\n",
    "    \n",
    "    def total_equity(self):\n",
    "        pass\n",
    "    \n",
    "    def capital_expenditures(self):\n",
    "        pass\n"
   ]
  },
  {
   "cell_type": "code",
   "execution_count": 439,
   "metadata": {},
   "outputs": [],
   "source": [
    "f = figureRetrieval('cvx')"
   ]
  },
  {
   "cell_type": "code",
   "execution_count": 440,
   "metadata": {},
   "outputs": [
    {
     "data": {
      "text/html": [
       "<div>\n",
       "<style scoped>\n",
       "    .dataframe tbody tr th:only-of-type {\n",
       "        vertical-align: middle;\n",
       "    }\n",
       "\n",
       "    .dataframe tbody tr th {\n",
       "        vertical-align: top;\n",
       "    }\n",
       "\n",
       "    .dataframe thead th {\n",
       "        text-align: right;\n",
       "    }\n",
       "</style>\n",
       "<table border=\"1\" class=\"dataframe\">\n",
       "  <thead>\n",
       "    <tr style=\"text-align: right;\">\n",
       "      <th></th>\n",
       "      <th>textdate</th>\n",
       "      <th>timestamp</th>\n",
       "      <th>eps</th>\n",
       "      <th>consensus_eps</th>\n",
       "      <th>surprise</th>\n",
       "    </tr>\n",
       "  </thead>\n",
       "  <tbody>\n",
       "    <tr>\n",
       "      <th>0</th>\n",
       "      <td>Jun2018</td>\n",
       "      <td>07/27/2018</td>\n",
       "      <td>1.78</td>\n",
       "      <td>2.06</td>\n",
       "      <td>-13.59</td>\n",
       "    </tr>\n",
       "    <tr>\n",
       "      <th>1</th>\n",
       "      <td>Sep2018</td>\n",
       "      <td>11/02/2018</td>\n",
       "      <td>2.11</td>\n",
       "      <td>2.06</td>\n",
       "      <td>2.43</td>\n",
       "    </tr>\n",
       "    <tr>\n",
       "      <th>2</th>\n",
       "      <td>Dec2018</td>\n",
       "      <td>02/01/2019</td>\n",
       "      <td>2.06</td>\n",
       "      <td>1.87</td>\n",
       "      <td>10.16</td>\n",
       "    </tr>\n",
       "    <tr>\n",
       "      <th>3</th>\n",
       "      <td>Mar2019</td>\n",
       "      <td>04/26/2019</td>\n",
       "      <td>1.39</td>\n",
       "      <td>1.26</td>\n",
       "      <td>10.32</td>\n",
       "    </tr>\n",
       "  </tbody>\n",
       "</table>\n",
       "</div>"
      ],
      "text/plain": [
       "  textdate   timestamp   eps consensus_eps surprise\n",
       "0  Jun2018  07/27/2018  1.78          2.06   -13.59\n",
       "1  Sep2018  11/02/2018  2.11          2.06     2.43\n",
       "2  Dec2018  02/01/2019  2.06          1.87    10.16\n",
       "3  Mar2019  04/26/2019  1.39          1.26    10.32"
      ]
     },
     "execution_count": 440,
     "metadata": {},
     "output_type": "execute_result"
    }
   ],
   "source": [
    "f.get_historical_eps()"
   ]
  },
  {
   "cell_type": "code",
   "execution_count": 397,
   "metadata": {},
   "outputs": [
    {
     "data": {
      "text/plain": [
       "265595000000"
      ]
     },
     "execution_count": 397,
     "metadata": {},
     "output_type": "execute_result"
    }
   ],
   "source": [
    "f.revenue(2018)"
   ]
  },
  {
   "cell_type": "code",
   "execution_count": 370,
   "metadata": {},
   "outputs": [
    {
     "data": {
      "text/plain": [
       "'CVX'"
      ]
     },
     "execution_count": 370,
     "metadata": {},
     "output_type": "execute_result"
    }
   ],
   "source": [
    "f.check_ticker()"
   ]
  },
  {
   "cell_type": "code",
   "execution_count": null,
   "metadata": {},
   "outputs": [],
   "source": [
    "class PriceData(object):\n",
    "    pass"
   ]
  },
  {
   "cell_type": "code",
   "execution_count": null,
   "metadata": {},
   "outputs": [],
   "source": [
    "class RatioCalculation(object):\n",
    "    # be sure to include period type (quarterly or yearly)\n",
    "    # and what specific quarter/year"
   ]
  },
  {
   "cell_type": "code",
   "execution_count": null,
   "metadata": {},
   "outputs": [],
   "source": [
    "class TrendModeling(object):\n",
    "    # this class should model line of best fit trends on first level,\n",
    "    # and second level acceleration line of best fit trends"
   ]
  },
  {
   "cell_type": "markdown",
   "metadata": {},
   "source": [
    "For modelling, use a system wherby you can freely adjust the growth parameters, and if you so choose - can use historical growth/acceleration metrics to adjust those parameters for you automatically\n",
    "\n",
    "chapter 12 should be for modelling "
   ]
  },
  {
   "cell_type": "code",
   "execution_count": null,
   "metadata": {},
   "outputs": [],
   "source": [
    "class ValueModeling(object):\n",
    "    "
   ]
  },
  {
   "cell_type": "code",
   "execution_count": null,
   "metadata": {},
   "outputs": [],
   "source": [
    "class RiskModeling(object):\n",
    "    "
   ]
  },
  {
   "cell_type": "code",
   "execution_count": null,
   "metadata": {},
   "outputs": [],
   "source": []
  },
  {
   "cell_type": "code",
   "execution_count": 412,
   "metadata": {},
   "outputs": [],
   "source": [
    "# Visualization class\n",
    "class Visualize:\n",
    "    #df = df.T.iloc[::-1]\n",
    "    pass"
   ]
  },
  {
   "cell_type": "code",
   "execution_count": null,
   "metadata": {},
   "outputs": [],
   "source": [
    "class Recommend(object):\n",
    "    \n",
    "    def __init__(self,company):\n",
    "        company.runall()"
   ]
  },
  {
   "cell_type": "code",
   "execution_count": 38,
   "metadata": {},
   "outputs": [],
   "source": [
    "class Company(object):\n",
    "    def __init__(self,ticker):\n",
    "        self.ticker = ticker\n",
    "        self.financials = YahooFinancials(self.ticker)\n",
    "        \n",
    "    # Gather all possible quantitative metrics available    \n",
    "    def runall():\n",
    "        "
   ]
  },
  {
   "cell_type": "code",
   "execution_count": 39,
   "metadata": {},
   "outputs": [
    {
     "ename": "NameError",
     "evalue": "name 'YahooFinancials' is not defined",
     "output_type": "error",
     "traceback": [
      "\u001b[1;31m---------------------------------------------------------------------------\u001b[0m",
      "\u001b[1;31mNameError\u001b[0m                                 Traceback (most recent call last)",
      "\u001b[1;32m<ipython-input-39-556f65ee2eca>\u001b[0m in \u001b[0;36m<module>\u001b[1;34m\u001b[0m\n\u001b[1;32m----> 1\u001b[1;33m \u001b[0mCompany\u001b[0m\u001b[1;33m(\u001b[0m\u001b[1;34m'aapl'\u001b[0m\u001b[1;33m)\u001b[0m\u001b[1;33m\u001b[0m\u001b[1;33m\u001b[0m\u001b[0m\n\u001b[0m",
      "\u001b[1;32m<ipython-input-38-aeca324030b4>\u001b[0m in \u001b[0;36m__init__\u001b[1;34m(self, ticker)\u001b[0m\n\u001b[0;32m      2\u001b[0m     \u001b[1;32mdef\u001b[0m \u001b[0m__init__\u001b[0m\u001b[1;33m(\u001b[0m\u001b[0mself\u001b[0m\u001b[1;33m,\u001b[0m\u001b[0mticker\u001b[0m\u001b[1;33m)\u001b[0m\u001b[1;33m:\u001b[0m\u001b[1;33m\u001b[0m\u001b[1;33m\u001b[0m\u001b[0m\n\u001b[0;32m      3\u001b[0m         \u001b[0mself\u001b[0m\u001b[1;33m.\u001b[0m\u001b[0mticker\u001b[0m \u001b[1;33m=\u001b[0m \u001b[0mticker\u001b[0m\u001b[1;33m\u001b[0m\u001b[1;33m\u001b[0m\u001b[0m\n\u001b[1;32m----> 4\u001b[1;33m         \u001b[0mself\u001b[0m\u001b[1;33m.\u001b[0m\u001b[0mfinancials\u001b[0m \u001b[1;33m=\u001b[0m \u001b[0mYahooFinancials\u001b[0m\u001b[1;33m(\u001b[0m\u001b[0mself\u001b[0m\u001b[1;33m.\u001b[0m\u001b[0mticker\u001b[0m\u001b[1;33m)\u001b[0m\u001b[1;33m\u001b[0m\u001b[1;33m\u001b[0m\u001b[0m\n\u001b[0m",
      "\u001b[1;31mNameError\u001b[0m: name 'YahooFinancials' is not defined"
     ]
    }
   ],
   "source": [
    "Company('aapl')"
   ]
  }
 ],
 "metadata": {
  "kernelspec": {
   "display_name": "Python 3",
   "language": "python",
   "name": "python3"
  },
  "language_info": {
   "codemirror_mode": {
    "name": "ipython",
    "version": 3
   },
   "file_extension": ".py",
   "mimetype": "text/x-python",
   "name": "python",
   "nbconvert_exporter": "python",
   "pygments_lexer": "ipython3",
   "version": "3.7.3"
  }
 },
 "nbformat": 4,
 "nbformat_minor": 2
}
