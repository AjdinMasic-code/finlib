{
 "cells": [
  {
   "cell_type": "markdown",
   "metadata": {},
   "source": [
    "- financial ratios\n",
    "- financial figures directly from financial statements\n",
    "- historical stock data (passthrough functions to yahoo finance - formatted into dataframe)\n",
    "- balance sheet modelling (trends)\n",
    "\n",
    "___\n",
    "\n",
    "**ratios**\n",
    "- pe ratio\n",
    "- diluted earnings per share excluding one time items\n",
    "- enterprise value\n",
    "- quick ratio\n",
    "- income from continuing operations margin\n",
    "- net margin\n",
    "- return on assets\n",
    "- return on capital\n",
    "- return on equity\n",
    "- growth rate (for a period - x variable)\n",
    "- free cash flow\n",
    "- firm value\n",
    "- cash flow from operations\n",
    "- weighted average cost of capital\n",
    "- after tax cost of debt\n",
    "- cost of equity\n",
    "- beta (CAPM)\n",
    "- share value\n",
    "- return on equity\n",
    "- long term growth rate in earnings\n",
    "- gross profit margin\n",
    "- operating profit margin\n",
    "- net profit margin\n",
    "- total asset turnpver\n",
    "- leverage ratio\n",
    "- effect of non-operating items\n",
    "- tax effect\n",
    "\n",
    "**other**\n",
    "- *pull from nasdaq website*\n",
    "- historical eps\n",
    "- consensus eps\n",
    "\n",
    "**income statement**\n",
    "- total revenue\n",
    "- cost of revenue\n",
    "- gross profit\n",
    "\n",
    "- research and development\n",
    "- total operating expenses\n",
    "- Interest expense\n",
    "- income before tax\n",
    "- income tax expense\n",
    "- EBITDA\n",
    "- EBIT\n",
    "- net income\n",
    "\n",
    "**balance sheet**\n",
    "- cash and cash equivalents\n",
    "- net receivables\n",
    "- inventory\n",
    "- other current assets\n",
    "- total current assets\n",
    "- long term investments\n",
    "- property plant and equipment\n",
    "- goodwill\n",
    "- intangible assets\n",
    "- accumulated amortization\n",
    "- other assets\n",
    "- total assets\n",
    "- accounts payable\n",
    "- short/current long term debt\n",
    "- other current liabilities\n",
    "- total current liabilities\n",
    "- long term debt\n",
    "- other liabilities\n",
    "- deferred long term liability charges\n",
    "- minority interest\n",
    "- total liabilities\n",
    "\n",
    "**cash flow**\n",
    "- net income\n",
    "- depreciation\n",
    "- adjustments to net income\n",
    "- changes in accounts receivables\n",
    "- changes in liabilities\n",
    "- changes in inventories\n",
    "- changes in other operating activities\n",
    "- capital expenditures\n",
    "- investments\n",
    "- other cash flows from investing activities\n",
    "- dividends paid\n",
    "- net borrowings\n",
    "- other cash flows from financing activities\n",
    "- total cash flows from financing activities\n",
    "- effect of exchange rate changes\n",
    "- change in cash and cash equivalents\n",
    "\n",
    "**historical data**\n",
    "- passthrough functions that package it into dataframe\n",
    "\n",
    "\n",
    "need to add functionality to check what years of data are available.\n"
   ]
  },
  {
   "cell_type": "code",
   "execution_count": 1,
   "metadata": {},
   "outputs": [],
   "source": [
    "from yahoofinancials import YahooFinancials\n",
    "import pandas as pd\n",
    "import numpy as np"
   ]
  },
  {
   "cell_type": "code",
   "execution_count": 8,
   "metadata": {},
   "outputs": [
    {
     "data": {
      "text/plain": [
       "2.414059"
      ]
     },
     "execution_count": 8,
     "metadata": {},
     "output_type": "execute_result"
    }
   ],
   "source": [
    "ticker = 'X'\n",
    "financials = YahooFinancials(ticker)\n",
    "financials.get_pe_ratio()"
   ]
  },
  {
   "cell_type": "code",
   "execution_count": null,
   "metadata": {},
   "outputs": [],
   "source": []
  },
  {
   "cell_type": "code",
   "execution_count": null,
   "metadata": {},
   "outputs": [],
   "source": []
  }
 ],
 "metadata": {
  "kernelspec": {
   "display_name": "Python 3",
   "language": "python",
   "name": "python3"
  },
  "language_info": {
   "codemirror_mode": {
    "name": "ipython",
    "version": 3
   },
   "file_extension": ".py",
   "mimetype": "text/x-python",
   "name": "python",
   "nbconvert_exporter": "python",
   "pygments_lexer": "ipython3",
   "version": "3.7.3"
  }
 },
 "nbformat": 4,
 "nbformat_minor": 2
}
